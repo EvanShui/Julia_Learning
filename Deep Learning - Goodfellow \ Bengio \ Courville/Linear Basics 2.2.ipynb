{
 "cells": [
  {
   "cell_type": "code",
   "execution_count": 29,
   "metadata": {},
   "outputs": [],
   "source": [
    "using LinearAlgebra;"
   ]
  },
  {
   "cell_type": "markdown",
   "metadata": {},
   "source": [
    "# Multiplying Matrices and Vectors\n",
    "## matrix product (Hadamard Product)\n",
    "matrix product = **A** \\* **B** = **C** <br/>\n",
    "where **A** is *m* x *n* and **B** is *n* x *p* and **C** is *m* x *p* <br/>\n",
    "The product operation (in this case is also **Hadamard product**) is defined by\n",
    "<center>\n",
    "$$\n",
    "C = A \\odot B \\\\\n",
    "C_{i,j} = \\sum_{k}{A_{i,k}B_{k,j}}\n",
    "$$\n",
    "</center>"
   ]
  },
  {
   "cell_type": "markdown",
   "metadata": {},
   "source": [
    "## Example of hadamard product"
   ]
  },
  {
   "cell_type": "code",
   "execution_count": 46,
   "metadata": {},
   "outputs": [
    {
     "name": "stdout",
     "output_type": "stream",
     "text": [
      "[1 4 9; 16 25 36]"
     ]
    }
   ],
   "source": [
    "A = [1 2 3; 4 5 6]\n",
    "B = [1 2 3; 4 5 6]\n",
    "(m, n) = size(A)\n",
    "for i in 1:m\n",
    "    for j in 1:n\n",
    "        B[i,j] = A[i,j] * B[i,j]\n",
    "    end\n",
    "end\n",
    "print(B)"
   ]
  },
  {
   "cell_type": "markdown",
   "metadata": {},
   "source": [
    "## matrix product (standard)\n",
    "dot product of *x* and *y* of the same dimensionality is equal to the matrix product $x^Ty$ <br/>\n",
    "We can think of the matrix product **C** = **A** **B** as computing $C_{i,j}$ as the dot product between row *i* of **A** and column *j* of **B**"
   ]
  },
  {
   "cell_type": "markdown",
   "metadata": {},
   "source": [
    "## Example of matrix product:\n",
    "$\n",
    "\\begin{bmatrix}\n",
    "    \\mathit{A}_{1,1} & \\mathit{A}_{2,1} & \\mathit{A}_{3,1} \\\\\n",
    "    \\mathit{A}_{1,2} & \\mathit{A}_{2,2} & \\mathit{A}_{3,2} \\\\\n",
    "\\end{bmatrix}\n",
    "*\n",
    "\\begin{bmatrix}\n",
    "    \\mathit{B}_{1,1} & \\mathit{B}_{1,2} \\\\\n",
    "    \\mathit{B}_{2,1} & \\mathit{B}_{2,2} \\\\\n",
    "    \\mathit{B}_{3,1} & \\mathit{B}_{3,2}\n",
    "\\end{bmatrix} \n",
    "=\n",
    "\\begin{bmatrix}\n",
    "    \\mathit{A}_{1,1} * \\mathit{B}_{1,1} + \\mathit{A}_{2,1} * \\mathit{B}_{2,1} + \\mathit{A}_{3,1} * \\mathit{B}_{3,1} & \\mathit{A}_{1,1} * \\mathit{B}_{1,2} + \\mathit{A}_{2,1} * \\mathit{B}_{2,2} + \\mathit{A}_{3,1} * \\mathit{B}_{3,2} \\\\ \n",
    "    \\mathit{A}_{1,2} * \\mathit{B}_{1,1} + \\mathit{A}_{2,2} * \\mathit{B}_{2,1} + \\mathit{A}_{3,2} * \\mathit{B}_{3,1} & \\mathit{A}_{1,2} * \\mathit{B}_{1,2} + \\mathit{A}_{2,2} * \\mathit{B}_{2,2} + \\mathit{A}_{3,2} * \\mathit{B}_{3,2}\n",
    "\\end{bmatrix}\n",
    "$\n",
    "\n",
    "$\n",
    "C_{1,1} = \n",
    "\\begin{bmatrix}\n",
    "    \\mathit{A}_{1,1} & \\mathit{A}_{2,1} & \\mathit{A}_{3,1}\n",
    "\\end{bmatrix}\n",
    "*\n",
    "\\begin{bmatrix}\n",
    "    \\mathit{B}_{1,1} \\\\\n",
    "    \\mathit{B}_{2,1} \\\\\n",
    "    \\mathit{B}_{3,1} \n",
    "\\end{bmatrix}\n",
    "$"
   ]
  },
  {
   "cell_type": "code",
   "execution_count": 8,
   "metadata": {},
   "outputs": [
    {
     "data": {
      "text/plain": [
       "2×2 Array{Int64,2}:\n",
       " 22  28\n",
       " 49  64"
      ]
     },
     "execution_count": 8,
     "metadata": {},
     "output_type": "execute_result"
    }
   ],
   "source": [
    "A = [1 2 3; 4 5 6]\n",
    "B = [1 2; 3 4; 5 6]\n",
    "C_1 = [1 2; 3 4; 5 6]\n",
    "C_2 = [1 2 3; 4 5 6]\n",
    "A * B"
   ]
  },
  {
   "cell_type": "code",
   "execution_count": 3,
   "metadata": {},
   "outputs": [
    {
     "name": "stdout",
     "output_type": "stream",
     "text": [
      "22"
     ]
    }
   ],
   "source": [
    "print(1*1 + 2*3 + 3*5)"
   ]
  },
  {
   "cell_type": "markdown",
   "metadata": {},
   "source": [
    "## Matrix Product Operations\n",
    "Matrix multiplication is distributive:\n",
    "<center>\n",
    "**A**(**B** + **C**) = **AB** + **AC**\n",
    "</center>"
   ]
  },
  {
   "cell_type": "code",
   "execution_count": 9,
   "metadata": {},
   "outputs": [
    {
     "data": {
      "text/plain": [
       "2×2 Array{Int64,2}:\n",
       " 44   56\n",
       " 98  128"
      ]
     },
     "execution_count": 9,
     "metadata": {},
     "output_type": "execute_result"
    }
   ],
   "source": [
    "A * (B + C_1)"
   ]
  },
  {
   "cell_type": "code",
   "execution_count": 10,
   "metadata": {},
   "outputs": [
    {
     "data": {
      "text/plain": [
       "2×2 Array{Int64,2}:\n",
       " 44   56\n",
       " 98  128"
      ]
     },
     "execution_count": 10,
     "metadata": {},
     "output_type": "execute_result"
    }
   ],
   "source": [
    "A * B + A * C_1"
   ]
  },
  {
   "cell_type": "markdown",
   "metadata": {},
   "source": [
    "It is also associative:\n",
    "<center>\n",
    "**A**(**B** **C**) = (**A** **B**) **C**\n",
    "</center>"
   ]
  },
  {
   "cell_type": "code",
   "execution_count": 11,
   "metadata": {},
   "outputs": [
    {
     "data": {
      "text/plain": [
       "2×3 Array{Int64,2}:\n",
       " 134  184  234\n",
       " 305  418  531"
      ]
     },
     "execution_count": 11,
     "metadata": {},
     "output_type": "execute_result"
    }
   ],
   "source": [
    "A * (B * C_2)"
   ]
  },
  {
   "cell_type": "code",
   "execution_count": 12,
   "metadata": {},
   "outputs": [
    {
     "data": {
      "text/plain": [
       "2×3 Array{Int64,2}:\n",
       " 134  184  234\n",
       " 305  418  531"
      ]
     },
     "execution_count": 12,
     "metadata": {},
     "output_type": "execute_result"
    }
   ],
   "source": [
    "(A * B) * C_2"
   ]
  },
  {
   "cell_type": "markdown",
   "metadata": {},
   "source": [
    "Matrix multiplication is *not* commutative (the condition **A** **B** != **B** **A**). However, the dot product between two vectors is commutative.\n",
    "<center>\n",
    "(2.8)\n",
    "$\n",
    "\\mathit{x}^T\\mathit{y} = \\mathit{y}^T\\mathit{x}\n",
    "$\n",
    "</center>"
   ]
  },
  {
   "cell_type": "code",
   "execution_count": 19,
   "metadata": {},
   "outputs": [
    {
     "data": {
      "text/plain": [
       "1×3 Array{Int64,2}:\n",
       " 1  2  3"
      ]
     },
     "execution_count": 19,
     "metadata": {},
     "output_type": "execute_result"
    }
   ],
   "source": [
    "x = [1 2 3]\n",
    "y = [1 2 3]"
   ]
  },
  {
   "cell_type": "code",
   "execution_count": 23,
   "metadata": {},
   "outputs": [
    {
     "data": {
      "text/plain": [
       "3-element Array{Int64,1}:\n",
       " 1\n",
       " 2\n",
       " 3"
      ]
     },
     "execution_count": 23,
     "metadata": {},
     "output_type": "execute_result"
    }
   ],
   "source": [
    "vec(x)"
   ]
  },
  {
   "cell_type": "code",
   "execution_count": 26,
   "metadata": {},
   "outputs": [
    {
     "data": {
      "text/plain": [
       "3-element Array{Int64,1}:\n",
       " 1\n",
       " 2\n",
       " 3"
      ]
     },
     "execution_count": 26,
     "metadata": {},
     "output_type": "execute_result"
    }
   ],
   "source": [
    "vec(y)"
   ]
  },
  {
   "cell_type": "code",
   "execution_count": 30,
   "metadata": {},
   "outputs": [
    {
     "data": {
      "text/plain": [
       "14"
      ]
     },
     "execution_count": 30,
     "metadata": {},
     "output_type": "execute_result"
    }
   ],
   "source": [
    "dot(vec(x), vec(y))"
   ]
  },
  {
   "cell_type": "code",
   "execution_count": 31,
   "metadata": {},
   "outputs": [
    {
     "data": {
      "text/plain": [
       "14"
      ]
     },
     "execution_count": 31,
     "metadata": {},
     "output_type": "execute_result"
    }
   ],
   "source": [
    "dot(transpose(vec(x)), vec(y))"
   ]
  },
  {
   "cell_type": "code",
   "execution_count": 33,
   "metadata": {},
   "outputs": [
    {
     "data": {
      "text/plain": [
       "14"
      ]
     },
     "execution_count": 33,
     "metadata": {},
     "output_type": "execute_result"
    }
   ],
   "source": [
    "dot(vec(x), transpose(vec(y)))"
   ]
  },
  {
   "cell_type": "markdown",
   "metadata": {},
   "source": [
    "The transpose of a matrix product has a simple form:\n",
    "<center>\n",
    "    (2.9)\n",
    "    $\n",
    "    (\\mathbf{AB}) ^T = \\mathbf{B}^T \\mathbf{A}^T\n",
    "    $\n",
    "</center>"
   ]
  },
  {
   "cell_type": "code",
   "execution_count": 34,
   "metadata": {},
   "outputs": [
    {
     "data": {
      "text/plain": [
       "2×2 Transpose{Int64,Array{Int64,2}}:\n",
       " 22  49\n",
       " 28  64"
      ]
     },
     "execution_count": 34,
     "metadata": {},
     "output_type": "execute_result"
    }
   ],
   "source": [
    "transpose(A * B)"
   ]
  },
  {
   "cell_type": "code",
   "execution_count": 35,
   "metadata": {},
   "outputs": [
    {
     "data": {
      "text/plain": [
       "3×2 Transpose{Int64,Array{Int64,2}}:\n",
       " 1  4\n",
       " 2  5\n",
       " 3  6"
      ]
     },
     "execution_count": 35,
     "metadata": {},
     "output_type": "execute_result"
    }
   ],
   "source": [
    "transpose(A)"
   ]
  },
  {
   "cell_type": "code",
   "execution_count": 36,
   "metadata": {},
   "outputs": [
    {
     "data": {
      "text/plain": [
       "2×3 Transpose{Int64,Array{Int64,2}}:\n",
       " 1  3  5\n",
       " 2  4  6"
      ]
     },
     "execution_count": 36,
     "metadata": {},
     "output_type": "execute_result"
    }
   ],
   "source": [
    "transpose(B)"
   ]
  },
  {
   "cell_type": "code",
   "execution_count": 38,
   "metadata": {},
   "outputs": [
    {
     "data": {
      "text/plain": [
       "2×2 Array{Int64,2}:\n",
       " 22  49\n",
       " 28  64"
      ]
     },
     "execution_count": 38,
     "metadata": {},
     "output_type": "execute_result"
    }
   ],
   "source": [
    "transpose(B) * transpose(A)"
   ]
  },
  {
   "cell_type": "markdown",
   "metadata": {},
   "source": [
    "As stated previously, vectors and scalars can be thought of as matrices, thus, we can apply equations 2.8 and 2.9 together. This equation tells us that the value value of a dot product is a scalar and thus is equal to it's own transpose (which is already shown above with the dot products)"
   ]
  },
  {
   "cell_type": "markdown",
   "metadata": {},
   "source": [
    "## Systems of Linear Equations\n",
    "<center>\n",
    "$\\mathbf{A}\\mathit{x} = \\mathit{b}$\n",
    "</center>\n",
    "where $\\mathbf{A} \\in \\mathbb{R}^{\\mathit{m}x\\mathit{n}}$ is a known matrix and $\\mathit{b} \\in \\mathbb{R}^{\\mathit{m}}$ is a known vector, and $\\mathit{x} \\in \\mathbb{R}^{\\mathit{n}}$ is a vector of unknown variables we would like to solve for. We are solving for all unknown variables in $\\mathit{x}$. This problem can be re-written as:\n",
    "<center>\n",
    "    $\n",
    "    \\mathbf{A}_{1,:}\\mathit{x} = \\mathit{b}_{1} \\\\\n",
    "    \\mathbf{A}_{2,:}\\mathit{x} = \\mathit{b}_{2} \\\\\n",
    "    ........... \\\\\n",
    "    \\mathbf{A}_{m,:}\\mathit{x} = \\mathit{b}_{m}\n",
    "    $\n",
    "</center>\n",
    "where the dot product between the vector of unknown variables, *x*, and the row from **A**, row *m*, is equal to the value *n* from vector *b*, which is shown as:\n",
    "<center>\n",
    "    $\\mathbf{A}_{1,1}\\mathit{x}_{1} + \\mathbf{A}_{1,2}\\mathit{x}_{2} + ... + \\mathbf{A}_{1,\\mathit{n}}\\mathit{x}_{\\mathit{n}} = \\mathit{b}_{1} \\\\\n",
    "    \\mathbf{A}_{2,1}\\mathit{x}_{1} + \\mathbf{A}_{2,2}\\mathit{x}_{2} + ... + \\mathbf{A}_{1,\\mathit{n}}\\mathit{x}_{\\mathit{n}} = \\mathit{b}_{2} \\\\\n",
    "    \\mathbf{A}_{m,1}\\mathit{x}_{1} + \\mathbf{A}_{m,2}\\mathit{x}_{2} + ... + \\mathbf{A}_{\\mathit{m},\\mathit{n}}\\mathit{x}_{\\mathit{n}} = \\mathit{b}_{\\mathit{m}}$\n",
    "</center>"
   ]
  },
  {
   "cell_type": "markdown",
   "metadata": {},
   "source": [
    "## Systems of Linear Equations Example"
   ]
  },
  {
   "cell_type": "markdown",
   "metadata": {},
   "source": [
    "$\n",
    "\\begin{bmatrix}\n",
    "    \\mathit{A}_{1,1} & \\mathit{A}_{1,2} \\\\\n",
    "    \\mathit{A}_{2,1} & \\mathit{A}_{2,2} \\\\\n",
    "    \\mathit{A}_{3,1} & \\mathit{A}_{3,2}\n",
    "\\end{bmatrix} \n",
    "* \n",
    "\\begin{bmatrix}\n",
    "    \\mathit{x}_{1} \\\\\n",
    "    \\mathit{x}_{2}\n",
    "\\end{bmatrix}\n",
    "=\n",
    "\\begin{bmatrix}\n",
    "    \\mathit{b}_{1} \\\\\n",
    "    \\mathit{b}_{2} \\\\\n",
    "    \\mathit{b}_{3}\n",
    "\\end{bmatrix} \n",
    "$"
   ]
  },
  {
   "cell_type": "markdown",
   "metadata": {},
   "source": [
    "\n",
    "$\\mathbf{A}_{1,1}\\mathit{x}_{1} + \\mathbf{A}_{1,2}\\mathit{x}_{2}  = \\mathit{b}_{1} \\\\\n",
    "\\mathbf{A}_{2,1}\\mathit{x}_{1} + \\mathbf{A}_{2,2}\\mathit{x}_{2}  = \\mathit{b}_{2} \\\\\n",
    "    \\mathbf{A}_{m,1}\\mathit{x}_{1} + \\mathbf{A}_{m,2}\\mathit{x}_{2} + ... + \\mathbf{A}_{\\mathit{m},\\mathit{n}}\\mathit{x}_{\\mathit{n}} = \\mathit{b}_{\\mathit{m}}$"
   ]
  },
  {
   "cell_type": "code",
   "execution_count": null,
   "metadata": {},
   "outputs": [],
   "source": []
  }
 ],
 "metadata": {
  "kernelspec": {
   "display_name": "Julia 1.0.2",
   "language": "julia",
   "name": "julia-1.0"
  },
  "language_info": {
   "file_extension": ".jl",
   "mimetype": "application/julia",
   "name": "julia",
   "version": "1.0.2"
  }
 },
 "nbformat": 4,
 "nbformat_minor": 2
}
