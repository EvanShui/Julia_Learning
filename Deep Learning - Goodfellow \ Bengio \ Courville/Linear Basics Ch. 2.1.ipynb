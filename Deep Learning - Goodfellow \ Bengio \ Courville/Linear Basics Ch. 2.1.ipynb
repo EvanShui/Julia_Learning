{
 "cells": [
  {
   "cell_type": "markdown",
   "metadata": {},
   "source": [
    "# Scalars, Vectors, Matrices, and Tensors"
   ]
  },
  {
   "cell_type": "markdown",
   "metadata": {},
   "source": [
    "## Scalars\n",
    "A scalar is just a single number written in *italics* also lower-case such as *g*"
   ]
  },
  {
   "cell_type": "markdown",
   "metadata": {},
   "source": [
    "## Vectors\n",
    "A vector is an array of number, vectors are lower case names with **bold typeface** such as **x** <br><br>\n",
    "The first element in a vector **x** is $x_1$, the second element is $x_2$, and so on...<br><br>\n",
    "If each element is in $\\mathbb{R}$ and the vector has *n* elements, then we can say the vector was formed with the Cartesian product of $\\mathbb{R}$ *n* times or $\\mathbb{R}^\\mathit{n}$<br><br>\n",
    "Might need a set of elements in the vector. Say we need elements 1,3,6 from the array, then specify a set $\\mathrm{S} = \\{1,3,6\\}$ and write $\\mathbf{x}_\\mathrm{S}$, vector containing elements indexed at 1, 3, and 6.<br><br>\n",
    "Can also do the compliment where $\\mathbf{x}_{-\\mathrm{S}}$ is all elements in the vector not including elements 1, 3, and 6."
   ]
  },
  {
   "cell_type": "code",
   "execution_count": 8,
   "metadata": {},
   "outputs": [
    {
     "data": {
      "text/plain": [
       "3-element Array{Int64,1}:\n",
       " 1\n",
       " 2\n",
       " 3"
      ]
     },
     "execution_count": 8,
     "metadata": {},
     "output_type": "execute_result"
    }
   ],
   "source": [
    "# In Julia, vectors are represented as normal arrays\n",
    "x = [1,2,3]"
   ]
  },
  {
   "cell_type": "markdown",
   "metadata": {},
   "source": [
    "## Matrices\n",
    "A matrix is a 2-D array of numbers, usually denoted with an upper-case bold typeface **A**<br><br>\n",
    "If a real-valued matrix **A** has a heigh of *m* and *n*, we say that $\\mathbf{A} \\in \\mathbb{R}^{\\mathit{mxn}}$<br><br>\n",
    "Usually identify the elments with the matrix name in italicized but not bold letters. $\\mathit{A}_{\\mathit{1,1}}$<br><br>\n",
    "Similar to python, if you want to specify an entire row or column, can use the ':' symbol. For example, $\\mathbf{A}_\\mathit{i,:}$ will give us the $i^{th}$ row and $\\mathbf{A}_\\mathit{:,i}$ will guve us the $i^{th}$ column<br><br>\n",
    "When need to explicitly identify the lemenets of a matrix, we write them as an array enclosed in square brackets:<br><br>\n",
    "$\n",
    "\\begin{bmatrix}\n",
    "    \\mathit{A}_{1,1} & \\mathit{A}_{1,2} \\\\\n",
    "    \\mathit{A}_{2,1} & \\mathit{A}_{2,2}\n",
    "\\end{bmatrix}\n",
    "$<br><br>\n",
    "If you need to get an element of an array after being passed into a function, use $\\mathit{f}(\\mathbf{A})_{\\mathit{i,j}}$"
   ]
  },
  {
   "cell_type": "code",
   "execution_count": 9,
   "metadata": {},
   "outputs": [
    {
     "data": {
      "text/plain": [
       "3×3 Array{Int64,2}:\n",
       " 1  2  3\n",
       " 4  5  6\n",
       " 7  8  9"
      ]
     },
     "execution_count": 9,
     "metadata": {},
     "output_type": "execute_result"
    }
   ],
   "source": [
    "# 2-D arrays are created similar to 1-D, but with semi-colons to\n",
    "# represent breaks (no commas though)\n",
    "A = [1 2 3;4 5 6;7 8 9]"
   ]
  },
  {
   "cell_type": "markdown",
   "metadata": {},
   "source": [
    "## Tensors\n",
    "Arrays with with more than two axes. We denot a tensor named \"A\" with $\\mathsf{A}$ (sans-serif as opposed to serif font)<br><br>\n",
    "No example for now"
   ]
  },
  {
   "cell_type": "markdown",
   "metadata": {},
   "source": [
    "## Transposition\n",
    "Mirror image of the matrix across a diagonal line (called the **Main line**). We denote transposition as $\\mathbf{A}^{\\mathsf{T}}$ of matrix **A**.<br><br>\n",
    "$(\\mathbf{A}^{\\mathsf{T}})_\\mathit{i,j} = \\mathit{A}_\\mathit{j,i}$"
   ]
  },
  {
   "cell_type": "code",
   "execution_count": 10,
   "metadata": {},
   "outputs": [
    {
     "data": {
      "text/plain": [
       "3×3 Array{Int64,2}:\n",
       " 1  2  3\n",
       " 4  5  6\n",
       " 7  8  9"
      ]
     },
     "execution_count": 10,
     "metadata": {},
     "output_type": "execute_result"
    }
   ],
   "source": [
    "A"
   ]
  },
  {
   "cell_type": "code",
   "execution_count": 11,
   "metadata": {},
   "outputs": [
    {
     "data": {
      "text/plain": [
       "3×3 LinearAlgebra.Transpose{Int64,Array{Int64,2}}:\n",
       " 1  4  7\n",
       " 2  5  8\n",
       " 3  6  9"
      ]
     },
     "execution_count": 11,
     "metadata": {},
     "output_type": "execute_result"
    }
   ],
   "source": [
    "transpose(A)"
   ]
  },
  {
   "cell_type": "markdown",
   "metadata": {},
   "source": [
    "We can add matrices as long as they have the same shape. <br><br>\n",
    "**C** = **A** + **B** where $\\mathit{C}_\\mathit{i,j} = \\mathit{A}_\\mathit{i,j} + \\mathit{B}_\\mathit{i,j}$"
   ]
  },
  {
   "cell_type": "code",
   "execution_count": 12,
   "metadata": {},
   "outputs": [
    {
     "data": {
      "text/plain": [
       "3×3 Array{Int64,2}:\n",
       " 10  11  12\n",
       " 13  14  15\n",
       " 16  17  18"
      ]
     },
     "execution_count": 12,
     "metadata": {},
     "output_type": "execute_result"
    }
   ],
   "source": [
    "B = [10 11 12; 13 14 15; 16 17 18]"
   ]
  },
  {
   "cell_type": "code",
   "execution_count": 13,
   "metadata": {},
   "outputs": [
    {
     "data": {
      "text/plain": [
       "3×3 Array{Int64,2}:\n",
       " 11  13  15\n",
       " 17  19  21\n",
       " 23  25  27"
      ]
     },
     "execution_count": 13,
     "metadata": {},
     "output_type": "execute_result"
    }
   ],
   "source": [
    "# adding 3x3 matrices with each other\n",
    "A + B"
   ]
  },
  {
   "cell_type": "markdown",
   "metadata": {},
   "source": [
    "We can also add a scalar to a matrix<br><br>\n",
    "**C** = **A** + **b**<br><br>\n",
    "$\\mathit{C}_\\mathit{i,j} = \\mathit{A}_\\mathit{i,j} + \\mathit{b}_\\mathit{j}$<br><br>\n",
    "In other words, the vector **b** is added to each row of the matrix."
   ]
  },
  {
   "cell_type": "code",
   "execution_count": 16,
   "metadata": {},
   "outputs": [
    {
     "data": {
      "text/plain": [
       "3×3 Array{Int64,2}:\n",
       " 1  2  3\n",
       " 4  5  6\n",
       " 7  8  9"
      ]
     },
     "execution_count": 16,
     "metadata": {},
     "output_type": "execute_result"
    }
   ],
   "source": [
    "A"
   ]
  },
  {
   "cell_type": "code",
   "execution_count": 19,
   "metadata": {},
   "outputs": [
    {
     "data": {
      "text/plain": [
       "3-element Array{Int64,1}:\n",
       " 1\n",
       " 2\n",
       " 3"
      ]
     },
     "execution_count": 19,
     "metadata": {},
     "output_type": "execute_result"
    }
   ],
   "source": [
    "b = [1,2,3]"
   ]
  },
  {
   "cell_type": "code",
   "execution_count": 21,
   "metadata": {},
   "outputs": [
    {
     "data": {
      "text/plain": [
       "3×3 Array{Int64,2}:\n",
       "  2   3   4\n",
       "  6   7   8\n",
       " 10  11  12"
      ]
     },
     "execution_count": 21,
     "metadata": {},
     "output_type": "execute_result"
    }
   ],
   "source": [
    "# Broadcast expands singleton dimensions (1 x _) in array arguments\n",
    "# to match the corresponding dimension in the other array without \n",
    "# using extra memory.\n",
    "broadcast(+, b, A)"
   ]
  },
  {
   "cell_type": "code",
   "execution_count": 14,
   "metadata": {},
   "outputs": [],
   "source": [
    "# Vectors can be thought of as matrices that contain only one column.\n"
   ]
  }
 ],
 "metadata": {
  "kernelspec": {
   "display_name": "Julia 1.0.2",
   "language": "julia",
   "name": "julia-1.0"
  },
  "language_info": {
   "file_extension": ".jl",
   "mimetype": "application/julia",
   "name": "julia",
   "version": "1.0.2"
  }
 },
 "nbformat": 4,
 "nbformat_minor": 2
}
